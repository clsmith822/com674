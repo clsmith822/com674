{
 "cells": [
  {
   "cell_type": "code",
   "execution_count": 89,
   "metadata": {},
   "outputs": [],
   "source": [
    "import tweepy\n",
    "from twitter_authentication import CONSUMER_KEY, CONSUMER_SECRET, ACCESS_TOKEN, ACCESS_TOKEN_SECRET\n",
    "\n",
    "auth = tweepy.OAuthHandler(CONSUMER_KEY, CONSUMER_SECRET)\n",
    "auth.set_access_token(ACCESS_TOKEN, ACCESS_TOKEN_SECRET)\n",
    "\n"
   ]
  },
  {
   "cell_type": "markdown",
   "metadata": {},
   "source": [
    "Use the search api to find Tweets that contain a phrase."
   ]
  },
  {
   "cell_type": "code",
   "execution_count": 118,
   "metadata": {
    "scrolled": true
   },
   "outputs": [],
   "source": [
    "api = tweepy.API(auth)\n",
    "import json\n",
    "import csv\n",
    "\n",
    "public_tweets = api.search(\"text: COVID -filter:retweets\", count=100, tweet_mode=\"extended\")\n",
    "\n",
    "tweets_list = [tweet._json for tweet in public_tweets]\n",
    "\n",
    "with open('tweets.json', 'w') as out:\n",
    "    json.dump(tweets_list,out)\n",
    "\n",
    "# tweets_list = [tweet for tweet in public_tweets]\n",
    "\n",
    "# print(tweets_list)\n",
    "\n",
    "# for tweet in public_tweets:\n",
    "#     print(tweet._json)\n",
    "\n",
    "# # json_data = json.loads(tweet._json)\n",
    "# # file.write(str(json_data))\n",
    "\n",
    "# # Open/create a file to append data to\n",
    "csvFile = open('result.csv', 'w')\n",
    "\n",
    "#Use csv writer\n",
    "csvWriter = csv.writer(csvFile)\n",
    "\n",
    "# for tweet in tweepy.Cursor(api.search,\n",
    "#                            q = \"text: Animal Crossing -filter:retweets\", count = 100) .items():\n",
    "for tweet in tweets_list:\n",
    "#     print(tweet[\"text\"])\n",
    "    # Write a row to the CSV file. I use encode UTF-8\n",
    "    csvWriter.writerow([tweet[\"full_text\"].encode('utf-8')])\n",
    "#     print (tweet.created_at, tweet.text)\n",
    "csvFile.close()\n"
   ]
  },
  {
   "cell_type": "code",
   "execution_count": 119,
   "metadata": {},
   "outputs": [
    {
     "name": "stdout",
     "output_type": "stream",
     "text": [
      "['00', '000', '0188074', '021', '0256', '086', '0963', '0qtmk0afyo', '0xyrmwji1e', '1011', '10jdgb8utd', '11', '13', '14', '15gb', '16', '180', '19', '1gb', '1h4svfx6sj', '1m1rwttfub', '2003', '2020', '208', '24', '2561', '286', '29', '295', '297', '2am', '2mb', '2pm', '2yq3swrdaw', '30', '3132743913', '350', '358', '3657', '398', '3a', '3gb', '3kcrg46gnu', '3lt4n05p0x', '41444', '4357', '44', '4438', '45', '457', '4673', '484848', '4squhgk227', '505', '5080', '52', '55', '5gb', '5xls31ksez', '611611', '6830', '692', '6ffvptzhsq', '6olwqq0gbi', '702', '704', '741', '741741', '7472', '765', '7770', '7771', '778', '7809', '7r7oebchmy', '800', '854', '85511', '870', '876ompgplf', '877', '8888', '8sswuqypyh', '8u9oaoocic', '8ul0lwuxsw', '8zrgkvx2mh', '9am', '9euabtpvze', '9hzcqzklis', '9hzrpecygr', '9pm', 'abbreviation', 'about', 'access', 'accompanying', 'acf', 'act', 'action', 'adamrobertcohen', 'add', 'added', 'advice', 'advising', 'advocacy', 'after', 'against', 'agent', 'ai', 'aid', 'aldj03', 'alert', 'alerts', 'all', 'alleninstitute', 'along', 'already', 'also', 'am', 'amakuyana', 'america', 'amp', 'amy', 'an', 'and', 'andrew', 'announcing', 'antonio', 'anxiety', 'anxious', 'any', 'anybody', 'anymore', 'anyone', 'anything', 'appexchange', 'applications', 'applies', 'apply', 'appointments', 'appts', 'aquí', 'are', 'area', 'aren', 'around', 'article', 'articles', 'as', 'ask', 'asking', 'assembly', 'assessment', 'assist', 'at', 'atmblhir5z', 'attempting', 'audrey', 'aunt', 'available', 'aware', 'ayiwpz41qx', 'az09', 'azpol', 'b9ow4fu3qt', 'babies', 'back', 'bad', 'banks', 'barrie', 'başlandı', 'bc', 'be', 'bearded', 'because', 'become', 'bed', 'been', 'before', 'behind', 'being', 'below', 'benefit', 'bernie', 'bettertogether', 'between', 'bezos', 'bfat9ackjx', 'bhn3pudxuf', 'big', 'bigsaver', 'bill', 'birthday', 'bit', 'bizon', 'block', 'blocked', 'boner', 'boris', 'bottom', 'break', 'brenner', 'brian', 'bro', 'brokers', 'btyeafu5tp', 'buch', 'buddy', 'burglars', 'business', 'but', 'button', 'buyljmlocv', 'bvclgallhx', 'bwvttmbhj0', 'by', 'c3ge1pkdpu', 'ca02', 'cabin', 'call', 'calls', 'cambridge', 'campaign', 'can', 'capability', 'capol', 'capolitics', 'car', 'cards', 'care', 'cares', 'carey', 'caring', 'carmichael', 'cartoon', 'caused', 'causing', 'ccjeh3d6hs', 'cell', 'cellphone', 'changes', 'character', 'charged', 'charities', 'charles', 'chat', 'check', 'chesterfield', 'child', 'children', 'chrismurphyct', 'city', 'ckgyqnutj0', 'claiming', 'claims', 'classic', 'clients', 'clinical', 'clipboard', 'closed', 'co', 'collingwood', 'come', 'committed', 'communities', 'community', 'communitysupportday', 'company', 'complete', 'con', 'concerned', 'confidential', 'confirm', 'congregations', 'conn', 'connected', 'connections', 'conoce', 'cons', 'consejos', 'consolidated', 'constant', 'constituent', 'consultations', 'contact', 'contacted', 'contains', 'contáctanos', 'convenience', 'conversation', 'conéctate', 'coping', 'copolitics', 'copy', 'cord', 'corner', 'coronalockdown', 'coronavirus', 'countries', 'country', 'county', 'countyofla', 'couple', 'cousin', 'covid', 'covid19', 'covid19ma', 'covid19nc', 'covid_19', 'covid_19mexico', 'creating', 'crimes', 'crisis', 'crossman', 'ct02', 'ctpolitics', 'cubrimiento', 'customers', 'cxarc79nml', 'cyber', 'd5kwbhfwpv', 'daddy', 'dads', 'daily', 'damn', 'data', 'dataset', 'daughter', 'days', 'dczfqnxsog', 'de', 'deaths', 'dejes', 'del', 'delay', 'delete', 'deliver', 'delivered', 'department', 'depressed', 'description', 'details', 'determines', 'device', 'dial', 'did', 'didn', 'difficult', 'directly', 'discussing', 'distancia', 'distinct', 'division', 'dldog0yzt8', 'dnrs', 'do', 'doctor', 'doctors', 'document', 'documents', 'does', 'doesn', 'doing', 'domoreofwhatmatters', 'don', 'donate', 'donating', 'donation', 'donations', 'done', 'donnell', 'donors', 'douchebags', 'down', 'dqdx6waggm', 'dracup', 'drawings', 'dtwjfwdq8g', 'due', 'during', 'duterte', 'each', 'eafc19', 'ease', 'easy', 'eat', 'eazeaujo0a', 'economic', 'edit', 'educate', 'education', 'efectos', 'effort', 'efforts', 'efs9enubz5', 'egrji2q2hc', 'el', 'else', 'email', 'emails', 'emergency', 'emotions', 'employees', 'en', 'encourage', 'ended', 'enjoy', 'enough', 'environment', 'era', 'erinnthered', 'esfrxjdipi', 'especial', 'especially', 'essential', 'est', 'estate', 'even', 'everyday', 'everydaysupport', 'everyone', 'everytime', 'ex', 'exceptions', 'exhaustion', 'existing', 'expecting', 'expenses', 'experiencing', 'experts', 'extra', 'f4psl1s7ho', 'facetime', 'facing', 'factcheck', 'factors', 'families', 'family', 'fans', 'far', 'fear', 'fearful', 'federal', 'fee', 'feel', 'feeling', 'feelings', 'feels', 'ferndale', 'fever', 'file', 'finally', 'financial', 'first', 'flapol', 'focusing', 'folks', 'follow', 'food', 'for', 'force', 'forcing', 'fordnation', 'forecasts', 'forward', 'foxyardsp', 'free', 'freecellservice', 'friday', 'friend', 'friends', 'from', 'full', 'fund', 'funding', 'fwh667hqnm', 'gain', 'gave', 'get', 'gets', 'getting', 'gift', 'gilmore', 'gimana', 'give', 'glenn', 'glfoodbank1', 'global', 'gloves', 'gm', 'go', 'goc2029', 'going', 'googledocs', 'got', 'gov', 'govabbott', 'govbilllee', 'government', 'govinslee', 'govofco', 'govparsonmo', 'govstitt', 'gpnrypdaww', 'graphic', 'great', 'gretchenwhitmer', 'grief', 'gritman', 'gritmanmedical', 'groceries', 'group', 'groups', 'gt', 'guess', 'guidelines', 'guy', 'h5jrxq21t1', 'habit', 'had', 'hall', 'hang', 'hansen', 'happen', 'harvardbiz', 'has', 'hate', 'have', 'haven', 'hbirpbqni9', 'he', 'heads', 'health', 'healthcare', 'healthy', 'help', 'helping', 'helpline', 'her', 'here', 'heygays', 'heygaysrevista', 'hhfl9yvzab', 'high', 'him', 'hindering', 'his', 'hit', 'hitting', 'hlhvtvh2wk', 'hoax', 'holding', 'home', 'hospital', 'hospitals', 'hotline', 'hotlink', 'house', 'how', 'https', 'huge', 'humanitarian', 'husband', 'i0staila', 'i7ejz74lzk', 'iamkudamaynard', 'icu', 'icymi', 'id', 'iesogi', 'if', 'ignore', 'ihme', 'image', 'impact', 'impacted', 'impacts', 'important', 'in', 'inc', 'incentives', 'inclined', 'include', 'including', 'india', 'info', 'information', 'informed', 'initiative', 'instantaneously', 'intentional', 'interventions', 'into', 'invada', 'invoke', 'iowa', 'irresponsible', 'is', 'isn', 'isolating', 'isolation', 'isolationlife', 'issue', 'issued', 'it', 'its', 'jails', 'jamie', 'jane', 'jb', 'jeff', 'jill', 'jkevincameron', 'jku8bkgrwj', 'joanna', 'job', 'john', 'johnson', 'joint', 'jollies', 'jornada', 'josh', 'journey', 'just', 'k04rxjdxly', 'kathryn', 'katie', 'kdnijwkfag', 'keeps', 'kelly', 'kelsie', 'kenaffl8rs', 'key', 'kfymtjui6q', 'kill', 'kindly', 'kits', 'know', 'knoxville', 'koronavirusu', 'kspol', 'kspoli', 'kspolitics', 'la', 'labeled', 'labor', 'lacdmh', 'laingsburg', 'lamovidagay', 'larry', 'last', 'lasting', 'later', 'latest', 'launching', 'laura', 'laurakellyks', 'lawrence', 'ldkz3my4ls', 'leading', 'leads', 'learn', 'least', 'leave', 'leland', 'lesley', 'letter', 'lgbt', 'life', 'like', 'liking', 'limit', 'limited', 'line', 'link', 'links', 'little', 'live', 'liveunited', 'll', 'llámanos', 'lnijx9kppf', 'local', 'lockdown', 'logo', 'lohdw57uv2', 'lol', 'lonely', 'look', 'looking', 'los', 'lost', 'lot', 'loyalty', 'lrh821', 'lt4agreements', 'lynette', 'mail', 'maith', 'make', 'making', 'mamu', 'managing', 'mapoli', 'mapols', 'market', 'markings', 'markingspublishing', 'markwarner', 'married', 'marshablackburn', 'masks', 'massgovernor', 'masstestingnowph', 'materials', 'mathuthu', 'matters', 'mau', 'mavhure', 'maxis', 'may', 'mcnally', 'me', 'mean', 'medhat', 'medical', 'meet', 'megan', 'melissa', 'member', 'members', 'message', 'messages', 'messaging', 'mi04', 'mi09', 'mi8umzufvy', 'micauw', 'mich', 'michigan', 'micro', 'miedo', 'might', 'mikedewine', 'mikedien', 'mimmitwit', 'minister', 'ministry', 'mipol', 'miss', 'missed', 'miui', 'mkunyeda', 'mmo9blkqx8', 'mobile', 'mogli', 'mom', 'monday', 'money', 'months', 'mopolitics', 'more', 'morning', 'msgs', 'mspolitics', 'much', 'multifamily', 'multiple', 'muskoka', 'must', 'mxrozhxypb', 'my', 'mysanal', 'myself', 'mystic', 'name', 'national', 'nativeapp', 'navigate', 'nccndye1sq', 'near', 'need', 'needs', 'nep7anblhh', 'never', 'new', 'news', 'next', 'nhsdigital', 'nmd', 'no', 'non', 'nonprofits', 'noon', 'not', 'nothing', 'now', 'nuestra', 'number', 'nurse', 'nv2izwhbes', 'nyashaneta2', 'nygovcuomo', 'nypol', 'nypolitics', 'nyrjrtruwi', 'nzc2d7dduc', 'o6fx0on0he', 'obey', 'of', 'off', 'offering', 'office', 'official', 'officially', 'officials', 'offline', 'often', 'oh01', 'oh06', 'ohagcabahm', 'ohio', 'ohpol', 'oidvqanqk2', 'okpol', 'okpolitics', 'okunmaya', 'old', 'olyrbyhgu7', 'on', 'once', 'one', 'onelansing', 'online', 'only', 'ontario', 'open', 'or', 'org', 'organizations', 'orillia', 'orxieijus3', 'other', 'others', 'our', 'ourmarkings2020', 'out', 'outbreak', 'outreach', 'over', 'overload', 'overwhelming', 'own', 'ozns17am8r', 'ozns17ilgt', 'p7dau2fzzh', 'p7ks4zzj1n', 'page', 'pandemic', 'pantries', 'para', 'parents', 'part', 'participate', 'partners', 'passed', 'passes', 'password', 'path', 'patient', 'patients', 'pattymurray', 'paxton', 'paying', 'pen', 'people', 'person', 'personas', 'peter', 'petition', 'pgxi7zcbim', 'phone', 'phones', 'photo', 'physical', 'physicians', 'pic', 'picayune', 'picking', 'pills', 'play', 'please', 'pm', 'pork', 'positive', 'post', 'postpaid', 'powell', 'power', 'ppl', 'pray', 'prepaid', 'presentations', 'prince', 'priorities', 'prisons', 'produce', 'produced', 'programs', 'project', 'pros', 'provider', 'providers', 'province', 'psychological', 'public', 'publishing', 'pxmbhgxika', 'q8ayt2wmhg', 'qfurapvewj', 'qkyriboh3w', 'qlinkwireless', 'qovpd8stzr', 'que', 'queries', 'questions', 'quinn', 'qziq3vvccy', 'raised', 'rally', 'ran', 'rcaitqpmdn', 're', 'reach', 'reached', 'read', 'reads', 'real', 'realdonaldtrump', 'realized', 'receive', 'received', 'recently', 'recoverable', 'regarding', 'related', 'relief', 'remain', 'reminds', 'remoteworking', 'repandylevin', 'repbilljohnson', 'repderekkilmer', 'repgregstanton', 'repjoecourtney', 'repmgriffith', 'repmoolenaar', 'representative', 'representatives', 'reptimburchett', 'request', 'requested', 'research', 'resist', 'resource', 'resources', 'response', 'restinpeace', 'revenue', 'review', 'right', 'rise', 'risk', 'rk6tqaplgt', 'robach', 'rocostrong', 'rona', 'rondesantisfl', 'rowan', 'rr', 'rubber', 'rules', 'rvppdrkqmr', 'sabasoftware', 'saferathome', 'said', 'sajni', 'sales', 'salesforce', 'samaritans', 'same', 'sana', 'sanctions', 'saving', 'sayfie', 'saying', 'says', 'scam', 'scams', 'scared', 'scholarly', 'scroll', 'seanmdav', 'secpompeo', 'see', 'seeing', 'seems', 'self', 'sell', 'selling', 'senalexander', 'senate', 'senator', 'senatorcantwell', 'senators', 'senatorsinema', 'senblumenthal', 'send', 'sending', 'sends', 'sengarypeters', 'senmcsallyaz', 'senrobportman', 'sensherrodbrown', 'senstabenow', 'sent', 'seriously', 'service', 'shannon', 'shared', 'shares', 'sharon', 'she', 'shirazmaher', 'shopped', 'short', 'should', 'sibh', 'sick', 'sign', 'significant', 'signing', 'signup', 'simply', 'since', 'situation', 'smezeaaiuq', 'sml3rkixvf', 'sms', 'so', 'sobrellevar', 'socialdistancing', 'solutions', 'some', 'somehow', 'someone', 'soulyogurt', 'south', 'spam', 'specially', 'specific', 'speed', 'spirit', 'spread', 'spreadsheets', 'staffs', 'stage', 'starts', 'state', 'statement', 'stay', 'stayathome', 'stayhomesavelives', 'steal', 'stella_grooves', 'stewart', 'stimulus', 'stop', 'stopping', 'stressed', 'stressful', 'struggling', 'students', 'such', 'sudden', 'sufferers', 'suffering', 'sunday', 'support', 'supporters', 'suppose', 'sure', 'surfing', 'surrounding', 'survey', 'susan', 'suspicious', 'swta', 'system', 'take', 'taking', 'talk', 'tank', 'tapi', 'task', 'tatereeves', 'taxbreak', 'te', 'teams', 'techforgood', 'tel', 'tell', 'telling', 'temporarily', 'tenn', 'tes', 'test', 'tested', 'testimonials', 'testing', 'texas', 'text', 'textmessaging', 'thanks', 'that', 'the', 'their', 'them', 'then', 'there', 'these', 'they', 'things', 'think', 'this', 'tho', 'thoroughly', 'those', 'threatening', 'through', 'thx', 'time', 'times', 'timkaine', 'timqalycny', 'tinned', 'tips', 'titled', 'tkvg7vstao', 'tn02', 'tnpol', 'tnpolitics', 'to', 'today', 'together', 'togetherla', 'toll', 'tolls', 'too', 'tool', 'top', 'toxicness', 'traces', 'trauma', 'treat', 'tricks', 'true', 'trump', 'trying', 'tsyy1xlxpr', 'turning', 'twitter', 'txpolitics', 'typically', 'typing', 'u47sbnufyg', 'ufg1bthsxd', 'un', 'un_spexperts', 'unavailable', 'uncertainty', 'understand', 'united', 'unlimited', 'unos', 'unprecedented', 'unsolicited', 'up', 'update', 'updated', 'updates', 'upon', 'url', 'us', 'use', 'user', 'users', 'using', 'usmh2n6wty', 'uwcnm', 'va09', 'vapol', 'vdnushz8zi', 've', 'venezuela', 'ventilatordays', 'verified', 'verify', 'verizon', 'verizonsupport', 'via', 'video', 'vih', 'virtual', 'virus', 'viruses', 'visit', 'vista', 'voter', 'vtra', 'vulnerable', 'wa06', 'wa0cjkqskl', 'waelex', 'want', 'ware', 'warn', 'wary', 'was', 'wasagabeach', 'watch', 'watches', 'wbpsarasjx', 'wdyt', 'we', 'weary', 'web', 'website', 'week', 'weeks', 'wgh1cvqw8w', 'what', 'whatsapp', 'wheelchair', 'when', 'where', 'while', 'who', 'why', 'wide', 'will', 'willhite', 'with', 'within', 'wnap67dcxp', 'wondeful', 'woodrow', 'word', 'work', 'worker', 'workforce', 'worry', 'worst', 'would', 'write', 'wrong', 'wyhdeplhdg', 'xqbcdqlyn8', 'y2g02u10ak', 'ya', 'ydqwksgfwo', 'year', 'years', 'yes', 'yesterday', 'ygsdgx7pix', 'ymniho9u7x', 'york', 'you', 'your', 'youtube', 'yr', 'z5540kfskd', 'zarjkrwxjq', 'zhymkbcjmk', 'zn0zolesnl', 'şuursuzca']\n",
      "[1 2 1 ... 1 1 1]\n"
     ]
    }
   ],
   "source": [
    "from sklearn.feature_extraction.text import CountVectorizer\n",
    "\n",
    "tweet_text = [tweet[\"full_text\"] for tweet in tweets_list]\n",
    "\n",
    "# for tweet in tweet_text:\n",
    "#     print(tweet)\n",
    "\n",
    "vectorizer = CountVectorizer()\n",
    "cv_fit=vectorizer.fit_transform(tweet_text)\n",
    "print(vectorizer.get_feature_names())\n",
    "print(cv_fit.toarray().sum(axis=0))\n",
    "# print(vectorizer.fit_transform(tweet_text).todense())\n",
    "# print(vectorizer.vocabulary_)"
   ]
  },
  {
   "cell_type": "code",
   "execution_count": 141,
   "metadata": {},
   "outputs": [
    {
     "name": "stdout",
     "output_type": "stream",
     "text": [
      "{'act': 12, 'can': 14, 'copy': 19, 'deliver': 19, 'delivered': 25, 'free': 9, 'get': 10, 'help': 13, 'https': 127, 'it': 20, 'last': 20, 'll': 21, 'me': 9, 'must': 11, 'my': 10, 'new': 9, 'now': 19, 'officials': 21, 'on': 9, 'our': 18, 'representative': 11, 'senator': 11, 'signing': 20, 'support': 24, 'they': 9, 'we': 16, 'why': 14, 'with': 17, 'you': 62}\n"
     ]
    },
    {
     "data": {
      "text/plain": [
       "<BarContainer object of 29 artists>"
      ]
     },
     "execution_count": 141,
     "metadata": {},
     "output_type": "execute_result"
    },
    {
     "data": {
      "image/png": "[encoded data removed]",
      "text/plain": [
       "<Figure size 432x288 with 1 Axes>"
      ]
     },
     "metadata": {
      "needs_background": "light"
     },
     "output_type": "display_data"
    }
   ],
   "source": [
    "import numpy as np\n",
    "import matplotlib.pyplot as plt\n",
    "\n",
    "\n",
    "# for word_count in cv_fit.toarray().sum(axis=0)\n",
    "#     frequency[]\n",
    "\n",
    "x = vectorizer.get_feature_names()\n",
    "y = cv_fit.toarray().sum(axis=0)\n",
    "\n",
    "frequency = {}\n",
    "\n",
    "common_list = \"the\", \"and\", \"covid\", \"covid19\", \"ozns17am8r\", \"11\", \"19\", \"amp\", \"your\", \"are\", \"at\", \"be\", \"in\", \"if\", \"is\", \"or\", \"for\", \"to\", \"too\", \"of\", \"co\", \"text\", \"that\", \"this\", \"am\", \"by\", \"from\", \"have\"\n",
    "\n",
    "for i in range(len(x)): \n",
    "    if x[i] not in common_list and y[i] > 8:\n",
    "        frequency[x[i]] = y[i]\n",
    "#     print(x[i])\n",
    "\n",
    "print(frequency)\n",
    "\n",
    "plt.xticks(rotation=90)\n",
    "plt.bar(frequency.keys(), frequency.values(), color='g')\n",
    "\n",
    "# print(range(len(x)))\n",
    "\n",
    "# plt.hist([x, y], label=[x, y])\n",
    "# plt.legend(loc='upper right')\n",
    "# plt.show()"
   ]
  },
  {
   "cell_type": "code",
   "execution_count": null,
   "metadata": {},
   "outputs": [],
   "source": []
  },
  {
   "cell_type": "code",
   "execution_count": null,
   "metadata": {},
   "outputs": [],
   "source": []
  }
 ],
 "metadata": {
  "kernelspec": {
   "display_name": "Python 3",
   "language": "python",
   "name": "python3"
  },
  "language_info": {
   "codemirror_mode": {
    "name": "ipython",
    "version": 3
   },
   "file_extension": ".py",
   "mimetype": "text/x-python",
   "name": "python",
   "nbconvert_exporter": "python",
   "pygments_lexer": "ipython3",
   "version": "3.7.4"
  }
 },
 "nbformat": 4,
 "nbformat_minor": 2
}
